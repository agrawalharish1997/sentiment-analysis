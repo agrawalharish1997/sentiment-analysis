{
  "nbformat": 4,
  "nbformat_minor": 0,
  "metadata": {
    "colab": {
      "name": "sentiment analysis.ipynb",
      "provenance": [],
      "authorship_tag": "ABX9TyPI7gL1lh7Kt5zFKI6weiQa",
      "include_colab_link": true
    },
    "kernelspec": {
      "name": "python3",
      "display_name": "Python 3"
    }
  },
  "cells": [
    {
      "cell_type": "markdown",
      "metadata": {
        "id": "view-in-github",
        "colab_type": "text"
      },
      "source": [
        "<a href=\"https://colab.research.google.com/github/agrawalharish1997/sentiment-analysis/blob/master/sentiment_analysis.ipynb\" target=\"_parent\"><img src=\"https://colab.research.google.com/assets/colab-badge.svg\" alt=\"Open In Colab\"/></a>"
      ]
    },
    {
      "cell_type": "code",
      "metadata": {
        "id": "Nx_saBtUfxiT",
        "colab_type": "code",
        "colab": {}
      },
      "source": [
        "import numpy as np\n",
        "import pandas as pd\n",
        "import matplotlib.pyplot as plt\n",
        "%matplotlib inline\n",
        "import nltk\n",
        "import os\n",
        "import re\n",
        "import string\n",
        "from sklearn.pipeline import Pipeline\n",
        "\n",
        "from sklearn.feature_extraction.text import TfidfVectorizer,CountVectorizer\n",
        "from nltk.corpus import stopwords\n",
        "from nltk.stem.porter import PorterStemmer\n",
        "from nltk.stem import SnowballStemmer, WordNetLemmatizer\n",
        "from sklearn.metrics import accuracy_score\n",
        "from nltk.tokenize import sent_tokenize, word_tokenize,TweetTokenizer\n",
        "from nltk import pos_tag \n",
        "from sklearn.linear_model import LogisticRegression\n",
        "from sklearn.model_selection import train_test_split \n",
        "from sklearn.metrics import confusion_matrix\n",
        "from sklearn.preprocessing import LabelEncoder,OneHotEncoder,LabelBinarizer"
      ],
      "execution_count": 0,
      "outputs": []
    },
    {
      "cell_type": "code",
      "metadata": {
        "id": "J36ZZn2cf6xn",
        "colab_type": "code",
        "colab": {
          "base_uri": "https://localhost:8080/",
          "height": 119
        },
        "outputId": "cdf05628-1100-419d-c47a-4795b36d1beb"
      },
      "source": [
        "data=pd.read_csv('train.csv')\n",
        "df=pd.DataFrame(data,columns = ['id', 'label','tweet'])\n",
        "Y=df.label\n",
        "X=df.drop(['label','id'],axis=1)\n",
        "#X[\"tweet\"] = X[\"tweet\"].str.lower()\n",
        "#special_char_list = [':','+','#','$','@','!','&','%',';','/',',', '?', '}', ')', '{', '(','>','<']\n",
        "#for special_char in special_char_list:\n",
        "#    X[\"tweet\"]=X[\"tweet\"].replace(special_char,'')\n",
        "#X[\"tweet\"].head()\n",
        "def word_count(sentence):\n",
        "    return len(sentence.split())    \n",
        "X['word count'] = X['tweet'].apply(word_count)\n",
        "X.head(3)\n",
        "def processTweet(tweet):\n",
        "    tweet = re.sub(r'\\&\\w*;', '', tweet)\n",
        "    tweet = re.sub('@[^\\s]+','',tweet)\n",
        "    tweet = re.sub(r'\\$\\w*', '', tweet)\n",
        "    tweet = tweet.lower()\n",
        "    tweet = re.sub(r'https?:\\/\\/.*\\/\\w*', '', tweet)\n",
        "    tweet = re.sub(r'#\\w!*', '', tweet)\n",
        "    tweet = re.sub(r'[' + string.punctuation.replace('@', '') + ']+', ' ', tweet)\n",
        "    tweet = re.sub(r'\\b\\w{1,2}\\b', '', tweet)\n",
        "    tweet = re.sub(r'\\s\\s+', ' ', tweet)\n",
        "    tweet = tweet.lstrip(' ') \n",
        "    tweet = ''.join(c for c in tweet if c <= '\\uFFFF') \n",
        "    return tweet\n",
        "X['tweet'] = X['tweet'].apply(processTweet)\n",
        "X['tweet'].head()\n"
      ],
      "execution_count": 5,
      "outputs": [
        {
          "output_type": "execute_result",
          "data": {
            "text/plain": [
              "0    when father dysfunctional and selfish drags hi...\n",
              "1    thanks for yft credit can use cause they don o...\n",
              "2                                  bihday your majesty\n",
              "3    odel love take with all the time urð± ...\n",
              "4                     factsguide society now otivation\n",
              "Name: tweet, dtype: object"
            ]
          },
          "metadata": {
            "tags": []
          },
          "execution_count": 5
        }
      ]
    },
    {
      "cell_type": "code",
      "metadata": {
        "id": "EB6k_yFmgAnp",
        "colab_type": "code",
        "colab": {}
      },
      "source": [
        "all_words = []\n",
        "for line in list(X['tweet']):\n",
        "    words = line.split()\n",
        "    for word in words:\n",
        "        all_words.append(word.lower())"
      ],
      "execution_count": 0,
      "outputs": []
    },
    {
      "cell_type": "code",
      "metadata": {
        "id": "15NLrNmNgD9K",
        "colab_type": "code",
        "colab": {
          "base_uri": "https://localhost:8080/",
          "height": 306
        },
        "outputId": "3a312971-007a-4d57-ca67-9c9ea56e6429"
      },
      "source": [
        "nltk.download('stopwords')\n",
        "def text_process(raw_text):\n",
        "    nopunc = [char for char in list(raw_text) if char not in string.punctuation]\n",
        "    nopunc = ''.join(nopunc)\n",
        "    return [word for word in nopunc.lower().split() if word.lower() not in stopwords.words('english') and len(word)>3]\n",
        "def remove_words(word_list):\n",
        "    remove = ['paul','ryan','...','“','”','’','…','ryan’']\n",
        "    return [w for w in word_list if w not in remove]\n",
        "X = X.copy()\n",
        "X['token'] = X['tweet'].apply(text_process) \n",
        "X['no_pauls'] = X['token'].apply(remove_words) \n",
        "X.head()"
      ],
      "execution_count": 10,
      "outputs": [
        {
          "output_type": "stream",
          "text": [
            "[nltk_data] Downloading package stopwords to /root/nltk_data...\n",
            "[nltk_data]   Unzipping corpora/stopwords.zip.\n"
          ],
          "name": "stdout"
        },
        {
          "output_type": "execute_result",
          "data": {
            "text/html": [
              "<div>\n",
              "<style scoped>\n",
              "    .dataframe tbody tr th:only-of-type {\n",
              "        vertical-align: middle;\n",
              "    }\n",
              "\n",
              "    .dataframe tbody tr th {\n",
              "        vertical-align: top;\n",
              "    }\n",
              "\n",
              "    .dataframe thead th {\n",
              "        text-align: right;\n",
              "    }\n",
              "</style>\n",
              "<table border=\"1\" class=\"dataframe\">\n",
              "  <thead>\n",
              "    <tr style=\"text-align: right;\">\n",
              "      <th></th>\n",
              "      <th>tweet</th>\n",
              "      <th>word count</th>\n",
              "      <th>token</th>\n",
              "      <th>no_pauls</th>\n",
              "    </tr>\n",
              "  </thead>\n",
              "  <tbody>\n",
              "    <tr>\n",
              "      <th>0</th>\n",
              "      <td>when father dysfunctional and selfish drags hi...</td>\n",
              "      <td>18</td>\n",
              "      <td>[father, dysfunctional, selfish, drags, kids, ...</td>\n",
              "      <td>[father, dysfunctional, selfish, drags, kids, ...</td>\n",
              "    </tr>\n",
              "    <tr>\n",
              "      <th>1</th>\n",
              "      <td>thanks for yft credit can use cause they don o...</td>\n",
              "      <td>19</td>\n",
              "      <td>[thanks, credit, cause, offer, wheelchair, van...</td>\n",
              "      <td>[thanks, credit, cause, offer, wheelchair, van...</td>\n",
              "    </tr>\n",
              "    <tr>\n",
              "      <th>2</th>\n",
              "      <td>bihday your majesty</td>\n",
              "      <td>3</td>\n",
              "      <td>[bihday, majesty]</td>\n",
              "      <td>[bihday, majesty]</td>\n",
              "    </tr>\n",
              "    <tr>\n",
              "      <th>3</th>\n",
              "      <td>odel love take with all the time urð± ...</td>\n",
              "      <td>14</td>\n",
              "      <td>[odel, love, take, time, urð±, , ...</td>\n",
              "      <td>[odel, love, take, time, urð±, , ...</td>\n",
              "    </tr>\n",
              "    <tr>\n",
              "      <th>4</th>\n",
              "      <td>factsguide society now otivation</td>\n",
              "      <td>4</td>\n",
              "      <td>[factsguide, society, otivation]</td>\n",
              "      <td>[factsguide, society, otivation]</td>\n",
              "    </tr>\n",
              "  </tbody>\n",
              "</table>\n",
              "</div>"
            ],
            "text/plain": [
              "                                               tweet  ...                                           no_pauls\n",
              "0  when father dysfunctional and selfish drags hi...  ...  [father, dysfunctional, selfish, drags, kids, ...\n",
              "1  thanks for yft credit can use cause they don o...  ...  [thanks, credit, cause, offer, wheelchair, van...\n",
              "2                                bihday your majesty  ...                                  [bihday, majesty]\n",
              "3  odel love take with all the time urð± ...  ...  [odel, love, take, time, urð±, , ...\n",
              "4                   factsguide society now otivation  ...                   [factsguide, society, otivation]\n",
              "\n",
              "[5 rows x 4 columns]"
            ]
          },
          "metadata": {
            "tags": []
          },
          "execution_count": 10
        }
      ]
    },
    {
      "cell_type": "code",
      "metadata": {
        "id": "_TjJVr-3gICF",
        "colab_type": "code",
        "colab": {
          "base_uri": "https://localhost:8080/",
          "height": 289
        },
        "outputId": "f5fbb53c-87b2-4154-db52-2aa3bf1b4297"
      },
      "source": [
        "stem=PorterStemmer()\n",
        "def stem_sentences(sentence):\n",
        "    tokens = sentence\n",
        "    stemmed_tokens = [stem.stem(token) for token in tokens]\n",
        "    return ' '.join(stemmed_tokens)\n",
        "\n",
        "X['stemword'] =X[\"token\"].apply(stem_sentences)\n",
        "X['stemword'].head()  \n",
        "X.head()"
      ],
      "execution_count": 11,
      "outputs": [
        {
          "output_type": "execute_result",
          "data": {
            "text/html": [
              "<div>\n",
              "<style scoped>\n",
              "    .dataframe tbody tr th:only-of-type {\n",
              "        vertical-align: middle;\n",
              "    }\n",
              "\n",
              "    .dataframe tbody tr th {\n",
              "        vertical-align: top;\n",
              "    }\n",
              "\n",
              "    .dataframe thead th {\n",
              "        text-align: right;\n",
              "    }\n",
              "</style>\n",
              "<table border=\"1\" class=\"dataframe\">\n",
              "  <thead>\n",
              "    <tr style=\"text-align: right;\">\n",
              "      <th></th>\n",
              "      <th>tweet</th>\n",
              "      <th>word count</th>\n",
              "      <th>token</th>\n",
              "      <th>no_pauls</th>\n",
              "      <th>stemword</th>\n",
              "    </tr>\n",
              "  </thead>\n",
              "  <tbody>\n",
              "    <tr>\n",
              "      <th>0</th>\n",
              "      <td>when father dysfunctional and selfish drags hi...</td>\n",
              "      <td>18</td>\n",
              "      <td>[father, dysfunctional, selfish, drags, kids, ...</td>\n",
              "      <td>[father, dysfunctional, selfish, drags, kids, ...</td>\n",
              "      <td>father dysfunct selfish drag kid dysfunct</td>\n",
              "    </tr>\n",
              "    <tr>\n",
              "      <th>1</th>\n",
              "      <td>thanks for yft credit can use cause they don o...</td>\n",
              "      <td>19</td>\n",
              "      <td>[thanks, credit, cause, offer, wheelchair, van...</td>\n",
              "      <td>[thanks, credit, cause, offer, wheelchair, van...</td>\n",
              "      <td>thank credit caus offer wheelchair van isapoin...</td>\n",
              "    </tr>\n",
              "    <tr>\n",
              "      <th>2</th>\n",
              "      <td>bihday your majesty</td>\n",
              "      <td>3</td>\n",
              "      <td>[bihday, majesty]</td>\n",
              "      <td>[bihday, majesty]</td>\n",
              "      <td>bihday majesti</td>\n",
              "    </tr>\n",
              "    <tr>\n",
              "      <th>3</th>\n",
              "      <td>odel love take with all the time urð± ...</td>\n",
              "      <td>14</td>\n",
              "      <td>[odel, love, take, time, urð±, , ...</td>\n",
              "      <td>[odel, love, take, time, urð±, , ...</td>\n",
              "      <td>odel love take time urð±  ¦¦¦</td>\n",
              "    </tr>\n",
              "    <tr>\n",
              "      <th>4</th>\n",
              "      <td>factsguide society now otivation</td>\n",
              "      <td>4</td>\n",
              "      <td>[factsguide, society, otivation]</td>\n",
              "      <td>[factsguide, society, otivation]</td>\n",
              "      <td>factsguid societi otiv</td>\n",
              "    </tr>\n",
              "  </tbody>\n",
              "</table>\n",
              "</div>"
            ],
            "text/plain": [
              "                                               tweet  ...                                           stemword\n",
              "0  when father dysfunctional and selfish drags hi...  ...          father dysfunct selfish drag kid dysfunct\n",
              "1  thanks for yft credit can use cause they don o...  ...  thank credit caus offer wheelchair van isapoin...\n",
              "2                                bihday your majesty  ...                                     bihday majesti\n",
              "3  odel love take with all the time urð± ...  ...   odel love take time urð±  ¦¦¦\n",
              "4                   factsguide society now otivation  ...                             factsguid societi otiv\n",
              "\n",
              "[5 rows x 5 columns]"
            ]
          },
          "metadata": {
            "tags": []
          },
          "execution_count": 11
        }
      ]
    },
    {
      "cell_type": "code",
      "metadata": {
        "id": "pdd8QZOKgMdh",
        "colab_type": "code",
        "colab": {
          "base_uri": "https://localhost:8080/",
          "height": 153
        },
        "outputId": "6bd6010e-8e9c-4802-d88b-cdbe4ea22d6d"
      },
      "source": [
        "word=pd.get_dummies(X['stemword']).values\n",
        "added_dummy_cols = [item for item in list(X['stemword'].values) ]\n",
        "print(word)\n",
        "print(word.shape)"
      ],
      "execution_count": 13,
      "outputs": [
        {
          "output_type": "stream",
          "text": [
            "[[0 0 0 ... 0 0 0]\n",
            " [0 0 0 ... 0 0 0]\n",
            " [0 0 0 ... 0 0 0]\n",
            " ...\n",
            " [0 0 0 ... 0 0 0]\n",
            " [0 0 0 ... 0 0 0]\n",
            " [0 0 0 ... 0 0 0]]\n",
            "(31962, 28033)\n"
          ],
          "name": "stdout"
        }
      ]
    },
    {
      "cell_type": "code",
      "metadata": {
        "id": "9SoIvaYQgRFW",
        "colab_type": "code",
        "colab": {}
      },
      "source": [
        "X_train, X_test, y_train, y_test =train_test_split(word,Y, test_size=0.3, random_state=42)\n",
        "clf = LogisticRegression(random_state=0).fit(X_train,y_train)\n",
        "y_pred=clf.predict(X_test)"
      ],
      "execution_count": 0,
      "outputs": []
    },
    {
      "cell_type": "code",
      "metadata": {
        "id": "-q65U5PGgVtS",
        "colab_type": "code",
        "colab": {
          "base_uri": "https://localhost:8080/",
          "height": 68
        },
        "outputId": "6e24fd95-cc44-4f71-b712-7c08902ea9f4"
      },
      "source": [
        "accuracy_score(y_test,y_pred)\n",
        "conf_Matrix = confusion_matrix(y_test,y_pred)\n",
        "print(conf_Matrix)\n",
        "print(accuracy_score(y_test,y_pred))"
      ],
      "execution_count": 15,
      "outputs": [
        {
          "output_type": "stream",
          "text": [
            "[[8905    0]\n",
            " [ 624   60]]\n",
            "0.9349254353947232\n"
          ],
          "name": "stdout"
        }
      ]
    }
  ]
}